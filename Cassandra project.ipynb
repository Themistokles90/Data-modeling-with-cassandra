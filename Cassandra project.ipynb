{
 "cells": [
  {
   "cell_type": "code",
   "execution_count": null,
   "id": "92ca81fa",
   "metadata": {},
   "outputs": [],
   "source": [
    "# This should make a connection to a Cassandra instance your local machine\n",
    "\n",
    "# (127.0.0.1)\n",
    "\n",
    "from cassandra.cluster import Cluster\n",
    "cluster = Cluster(['127.0.0.1'])\n",
    "\n",
    "# To establish connection and begin executing queries, need a session\n",
    "session = cluster.connect()"
   ]
  },
  {
   "cell_type": "code",
   "execution_count": null,
   "id": "08379b52",
   "metadata": {},
   "outputs": [],
   "source": [
    "# TO-DO: Create a Keyspace \n",
    "try:\n",
    "    session.execute(\"\"\"CREATE KEYSPACE IF NOT EXISTS udacity WITH REPLICATION = {'class':'SimpleStrategy', 'replication_factor':1}\"\"\")\n",
    "except Exception as e:\n",
    "    print(e)"
   ]
  },
  {
   "cell_type": "code",
   "execution_count": null,
   "id": "a07c5bcf",
   "metadata": {},
   "outputs": [],
   "source": [
    "# TO-DO: Set KEYSPACE to the keyspace specified above\n",
    "try:\n",
    "    session.set_keyspace('udacity')\n",
    "except Exception as e:\n",
    "    print(e)"
   ]
  },
  {
   "cell_type": "code",
   "execution_count": null,
   "id": "36c9f83a",
   "metadata": {},
   "outputs": [],
   "source": [
    "# We have provided part of the code to set up the CSV file. Please complete the Apache Cassandra code below#\n",
    "create_query1 = \"CREATE TABLE IF NOT EXISTS music_library1\"\n",
    "create_query1 = create_query1 + \"(sessionid int, iteminsession int, artist text, song_title text, length float, PRIMARY KEY (sessionid, iteminsession))\"\n",
    "try:\n",
    "    session.execute(create_query1)\n",
    "    print('table created')\n",
    "except Exception as e:\n",
    "    print(e)\n",
    "\n",
    "file = 'event_datafile_new.csv'\n",
    "\n",
    "with open(file, encoding = 'utf8') as f:\n",
    "    csvreader = csv.reader(f)\n",
    "    next(csvreader) # skip header\n",
    "    for line in csvreader:\n",
    "## TO-DO: Assign the INSERT statements into the `query` variable\n",
    "        insert_query1 = \"INSERT INTO music_library1 (sessionid, iteminsession, artist, song_title, length)\"\n",
    "        insert_query1 = insert_query1 + \"VALUES(%s,%s,%s,%s,%s)\"\n",
    "    \n",
    "        ## TO-DO: Assign which column element should be assigned for each column in the INSERT statement.\n",
    "        ## For e.g., to INSERT artist_name and user first_name, you would change the code below to `line[0], line[1]`\n",
    "        \n",
    "        #artist = line[0]\n",
    "        #firstname_user = line[1]\n",
    "        #iteminsession = line[3]\n",
    "        #lastname_user = line[4]\n",
    "        #lenght = line[5]\n",
    "        #sessionid = line[8]\n",
    "        #song_title = line[9]\n",
    "        #userid = line[10]\n",
    "                \n",
    "    try:\n",
    "        session.execute(insert_query1, (int(line[8]), int(line[3]), line[0], line[9], float(line[5])))\n",
    "        print('data inserted in table')\n",
    "    \n",
    "    except Exception as e:\n",
    "        print(e)\n",
    "\n",
    "\n",
    "query1 = \"SELECT artist, song_title, length FROM music_library1 WHERE sessionid = 338 AND iteminsession = 4\"\n",
    "try:\n",
    "    rows = session.execute(query1)\n",
    "    for row in rows:\n",
    "        print (row.artist, row.song_title, row.length)\n",
    "except Exception as e:\n",
    "    print(e)"
   ]
  }
 ],
 "metadata": {
  "kernelspec": {
   "display_name": "Python 3 (ipykernel)",
   "language": "python",
   "name": "python3"
  },
  "language_info": {
   "codemirror_mode": {
    "name": "ipython",
    "version": 3
   },
   "file_extension": ".py",
   "mimetype": "text/x-python",
   "name": "python",
   "nbconvert_exporter": "python",
   "pygments_lexer": "ipython3",
   "version": "3.9.12"
  }
 },
 "nbformat": 4,
 "nbformat_minor": 5
}
